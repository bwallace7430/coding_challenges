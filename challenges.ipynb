{
 "cells": [
  {
   "cell_type": "markdown",
   "metadata": {},
   "source": [
    "# Challenge 1\n",
    "Write a function that will reverse the given input string."
   ]
  },
  {
   "cell_type": "code",
   "execution_count": 24,
   "metadata": {},
   "outputs": [
    {
     "name": "stdout",
     "output_type": "stream",
     "text": [
      "trams os mI\n"
     ]
    }
   ],
   "source": [
    "test_string = 'python'\n",
    "\n",
    "def reverse_string(input):\n",
    "    new_string = \"\"\n",
    "    for i in range(len(input)):\n",
    "        new_string += input[len(input)-(1+i)]\n",
    "    print(new_string)\n",
    "\n",
    "reverse_string(test_string)"
   ]
  },
  {
   "cell_type": "markdown",
   "metadata": {},
   "source": [
    "# Challenge 2\n",
    "Write a function that accepts three integers as input and returns as output the largest of the three."
   ]
  },
  {
   "cell_type": "code",
   "execution_count": 8,
   "metadata": {},
   "outputs": [
    {
     "name": "stdout",
     "output_type": "stream",
     "text": [
      "1\n"
     ]
    }
   ],
   "source": [
    "def find_max(int1, int2, int3):\n",
    "    temp_max = int1\n",
    "    if temp_max < int2:\n",
    "        temp_max = int2\n",
    "    if temp_max < int3:\n",
    "        temp_max = int3\n",
    "    max = temp_max\n",
    "    return max\n",
    "\n",
    "print(find_max(1, 1, 1))"
   ]
  },
  {
   "cell_type": "markdown",
   "metadata": {},
   "source": [
    "# Challenge 3\n",
    "Write a function that calculates the factorial of an input integer using recursion."
   ]
  },
  {
   "cell_type": "code",
   "execution_count": 12,
   "metadata": {},
   "outputs": [
    {
     "data": {
      "text/plain": [
       "24"
      ]
     },
     "execution_count": 12,
     "metadata": {},
     "output_type": "execute_result"
    }
   ],
   "source": [
    "test_int = 4\n",
    "def calculate_factorial(given_int):\n",
    "    if (given_int == 0 or given_int == 1):\n",
    "        return 1\n",
    "    else:\n",
    "        return (given_int * calculate_factorial(given_int-1))\n",
    "calculate_factorial(test_int)"
   ]
  },
  {
   "cell_type": "markdown",
   "metadata": {},
   "source": [
    "# Challenge 4\n",
    "Write a function that calculates the Nth entry of the Fibonacci sequence."
   ]
  },
  {
   "cell_type": "code",
   "execution_count": 21,
   "metadata": {},
   "outputs": [
    {
     "data": {
      "text/plain": [
       "5"
      ]
     },
     "execution_count": 21,
     "metadata": {},
     "output_type": "execute_result"
    }
   ],
   "source": [
    "test_term = 3\n",
    "def calculate_fibonacci(n_terms):\n",
    "    if (n_terms == 1):\n",
    "        return 1\n",
    "    else:\n",
    "        first_element = 0\n",
    "        second_element = 1\n",
    "        for i in range(n_terms-1):\n",
    "            new_element = first_element + second_element\n",
    "            first_element = second_element\n",
    "            second_element = new_element\n",
    "        return new_element\n",
    "calculate_fibonacci(5)"
   ]
  }
 ],
 "metadata": {
  "kernelspec": {
   "display_name": "Python 3",
   "language": "python",
   "name": "python3"
  },
  "language_info": {
   "codemirror_mode": {
    "name": "ipython",
    "version": 3
   },
   "file_extension": ".py",
   "mimetype": "text/x-python",
   "name": "python",
   "nbconvert_exporter": "python",
   "pygments_lexer": "ipython3",
   "version": "3.11.5"
  }
 },
 "nbformat": 4,
 "nbformat_minor": 2
}
